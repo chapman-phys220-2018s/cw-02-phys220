{
 "cells": [
  {
   "cell_type": "code",
   "execution_count": 1,
   "metadata": {
    "collapsed": false
   },
   "outputs": [
   ],
   "source": [
    "import fibs\n",
    "import coord\n",
    "import converge"
   ]
  },
  {
   "cell_type": "markdown",
   "metadata": {
    "collapsed": false
   },
   "source": [
    "# Classwork 02\n",
    "\n",
    "Daniel, Devon, Myranda\n",
    "\n",
    "Feb.13, 2018\n",
    "\n",
    "## Exercises\n",
    "\n",
    "### Exercise 1:\n",
    "\n",
    "Exercise 1 asked us to  code 3 different functions; coord_for, coord_while, and coord_comp.  All of these functions generate $n + 1$ equally spaced $x$ coordinates in the interval $[a, b]$ and store them in a list. The function coord_for uses a for loop to generate the list of coordinates. Below I will demonstrate coord_for by calling the function and asking it to generate 3 + 1 (4) coordinates in the interval $[0, 1]$. "
   ]
  },
  {
   "cell_type": "code",
   "execution_count": 2,
   "metadata": {
    "collapsed": false
   },
   "outputs": [
    {
     "data": {
      "text/plain": [
       "[0.0, 0.3333333333333333, 0.6666666666666666, 1.0]"
      ]
     },
     "execution_count": 2,
     "metadata": {
     },
     "output_type": "execute_result"
    }
   ],
   "source": [
    "coord.coord_for(3,0,1)"
   ]
  },
  {
   "cell_type": "markdown",
   "metadata": {
    "collapsed": false
   },
   "source": [
    "I will now show how coord_while gives us the same result. We used a while loop to construct this function instead of a for loop.  I will use the same parameters for comparison."
   ]
  },
  {
   "cell_type": "code",
   "execution_count": 3,
   "metadata": {
    "collapsed": false
   },
   "outputs": [
    {
     "data": {
      "text/plain": [
       "[0.0, 0.3333333333333333, 0.6666666666666666, 1.0]"
      ]
     },
     "execution_count": 3,
     "metadata": {
     },
     "output_type": "execute_result"
    }
   ],
   "source": [
    "coord.coord_while(3,0,1)"
   ]
  },
  {
   "cell_type": "markdown",
   "metadata": {
    "collapsed": false
   },
   "source": [
    "I will now show coord_comp gives us the same result.  The function coord_comp was created using a list comprehension.  I will again use the same parameters for comparison."
   ]
  },
  {
   "cell_type": "code",
   "execution_count": 4,
   "metadata": {
    "collapsed": false
   },
   "outputs": [
    {
     "data": {
      "text/plain": [
       "[0.0, 0.3333333333333333, 0.6666666666666666, 1.0]"
      ]
     },
     "execution_count": 4,
     "metadata": {
     },
     "output_type": "execute_result"
    }
   ],
   "source": [
    "coord.coord_comp(3,0,1)"
   ]
  },
  {
   "cell_type": "markdown",
   "metadata": {
    "collapsed": false
   },
   "source": [
    "As shown above, our three function successfully split the intervals into 4 equally spaced $x$ coordinates.  The results are all consistent, meaning we were able to construct 3 functions that serve the same purpose with different approaches.\n",
    "\n",
    "### Exercise 2:\n",
    "\n",
    "Exercise 2 asked us to generate the first $n$ Fibonacci numbers in a list.  For example, the first 5 Fibonacci numbers would look like `[1,1,2,3,5]`.  We did this using 2 different functions; fibs and fib_generator.  The function fibs takes an input $n$ and uses a while loop to generate the list. I will demonstrate the use of fibs with a value of $n=5$."
   ]
  },
  {
   "cell_type": "code",
   "execution_count": 5,
   "metadata": {
    "collapsed": false
   },
   "outputs": [
    {
     "data": {
      "text/plain": [
       "[1, 1, 2, 3, 5]"
      ]
     },
     "execution_count": 5,
     "metadata": {
     },
     "output_type": "execute_result"
    }
   ],
   "source": [
    "fibs.fibs(5)"
   ]
  },
  {
   "cell_type": "markdown",
   "metadata": {
    "collapsed": false
   },
   "source": [
    "As expected, we have a list of the first 5 Fibonacci numbers.  Now I will demonstrate the use of fib_generator.  The code below is telling the generator to give the first 5 Fibonacci numbers, so we should get the same exact result as we saw for the fibs function."
   ]
  },
  {
   "cell_type": "code",
   "execution_count": 6,
   "metadata": {
    "collapsed": false
   },
   "outputs": [
    {
     "data": {
      "text/plain": [
       "[1, 1, 2, 3, 5]"
      ]
     },
     "execution_count": 6,
     "metadata": {
     },
     "output_type": "execute_result"
    }
   ],
   "source": [
    "g = fibs.fib_generator()\n",
    "[next(g) for _ in range(5)]"
   ]
  },
  {
   "cell_type": "markdown",
   "metadata": {
    "collapsed": false
   },
   "source": [
    "We got the same result.  This means that we were able to achieve our goal of creating 2 functions with different approaches to generate the first $n$ Fibonacci numbers.\n",
    "\n",
    "### Exercise 3:\n",
    "\n",
    "The final exercise asked us to the compute the \"infinite sum\":\n",
    "\n",
    "$$\\sum_{k=1}^\\infty \\frac{1}{k^2} \\equiv \\lim_{N\\to\\infty} \\sum_{k=1}^N \\frac{1}{k^2}$$\n",
    "\n",
    "Because we can't add an infinite number of terms, we stop adding terms by specifying a tolerance. When the next term of the sum is smaller than the tolerance the sum is truncated.  Our default tolerance was 1e-2, but as shown below we can also specify any tolerance we want, which gives us a more accurate convergence.  This sum should converge to about $$\\frac{\\pi^2}{6}$$, which is about 1.6449 for reference."
   ]
  },
  {
   "cell_type": "code",
   "execution_count": 7,
   "metadata": {
    "collapsed": false
   },
   "outputs": [
    {
     "name": "stdout",
     "output_type": "stream",
     "text": [
      "1.5497677311665408\n"
     ]
    }
   ],
   "source": [
    "print(converge.compute_sum())"
   ]
  },
  {
   "cell_type": "code",
   "execution_count": 8,
   "metadata": {
    "collapsed": false
   },
   "outputs": [
    {
     "name": "stdout",
     "output_type": "stream",
     "text": [
      "1.6449240668982423\n"
     ]
    }
   ],
   "source": [
    "print(converge.compute_sum(1e-10))"
   ]
  },
  {
   "cell_type": "markdown",
   "metadata": {
    "collapsed": false
   },
   "source": [
    "As shown above we can specify any tolerance, and the sum does indeed get closer to the actual convergence value of this sum when we specify a lower tolerance.  This makes sense because the more terms, the more accurate the convergence should be because we get closer to $n$ = Infinity.  The sum is actually close to $$\\frac{\\pi^2}{6}$$ also, so that is a good sign."
   ]
  }
 ],
 "metadata": {
  "kernelspec": {
   "display_name": "Python 3 (Anaconda)",
   "language": "python",
   "name": "anaconda3"
  },
  "language_info": {
   "codemirror_mode": {
    "name": "ipython",
    "version": 3
   },
   "file_extension": ".py",
   "mimetype": "text/x-python",
   "name": "python",
   "nbconvert_exporter": "python",
   "pygments_lexer": "ipython3",
   "version": "3.5.4"
  }
 },
 "nbformat": 4,
 "nbformat_minor": 0
}